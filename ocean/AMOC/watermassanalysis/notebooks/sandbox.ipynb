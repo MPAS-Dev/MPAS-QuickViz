{
 "cells": [
  {
   "cell_type": "markdown",
   "id": "937823d1-0391-4fe2-8c9e-900a7dabd94c",
   "metadata": {},
   "source": [
    "# Sandbox\n",
    "\n",
    "Space for Python code development...\n",
    "\n",
    "***"
   ]
  },
  {
   "cell_type": "code",
   "execution_count": null,
   "id": "e417dfb5-555f-4218-ba9d-d83a8e33cb43",
   "metadata": {},
   "outputs": [],
   "source": [
    "import numpy as np\n",
    "import xarray as xr\n",
    "import yaml\n",
    "import sys\n",
    "from matplotlib import pyplot as plt\n",
    "from tqdm import tqdm\n",
    "\n",
    "# Import modules from path\n",
    "sys.path.append('../modules/')\n",
    "import calc_transformation_budget as trtools\n",
    "import watermasstools as wmttools\n",
    "\n",
    "plt.rcParams.update({'font.size': 11, 'axes.titlesize': 'medium'})"
   ]
  },
  {
   "cell_type": "markdown",
   "id": "dfb623e5-6583-415b-868e-30cd28af2440",
   "metadata": {},
   "source": [
    "***\n",
    "\n",
    "### Code development starts here ..."
   ]
  },
  {
   "cell_type": "code",
   "execution_count": null,
   "id": "415020d0-1963-425b-85cc-764775459968",
   "metadata": {},
   "outputs": [],
   "source": []
  }
 ],
 "metadata": {
  "kernelspec": {
   "display_name": "compass",
   "language": "python",
   "name": "compass"
  },
  "language_info": {
   "codemirror_mode": {
    "name": "ipython",
    "version": 3
   },
   "file_extension": ".py",
   "mimetype": "text/x-python",
   "name": "python",
   "nbconvert_exporter": "python",
   "pygments_lexer": "ipython3",
   "version": "3.10.12"
  }
 },
 "nbformat": 4,
 "nbformat_minor": 5
}
