{
 "cells": [
  {
   "cell_type": "markdown",
   "id": "e1643742-4c36-4349-bb69-591324689051",
   "metadata": {},
   "source": [
    "# Sandbox\n",
    "\n",
    "A space for random tinkering."
   ]
  },
  {
   "cell_type": "code",
   "execution_count": 2,
   "id": "1f308ad9-d928-4e05-b635-953783bb9992",
   "metadata": {
    "tags": []
   },
   "outputs": [],
   "source": [
    "import numpy as np\n",
    "import xarray as xr\n",
    "import yaml\n",
    "import matplotlib.pyplot as plt"
   ]
  },
  {
   "cell_type": "code",
   "execution_count": 3,
   "id": "8792cd66-5a63-4d50-9390-18623dbae303",
   "metadata": {
    "tags": []
   },
   "outputs": [],
   "source": [
    "# Get paths\n",
    "with open('../yaml/paths_LR.yaml', 'r') as f:\n",
    "    paths = yaml.safe_load(f)"
   ]
  },
  {
   "cell_type": "code",
   "execution_count": null,
   "id": "8b59644a-2ec0-4004-b4f6-7cf2a0830df0",
   "metadata": {},
   "outputs": [],
   "source": [
    "# Load mesh variables\n",
    "with xr.open_dataset(paths['meshfile']) as ds:\n",
    "    nCells = ds.nCells.values\n",
    "    lonCell = np.rad2deg(ds.lonCell.values)\n",
    "    latCell = np.rad2deg(ds.latCell.values)\n",
    "    lonEdge = np.rad2deg(ds.lonEdge.values)\n",
    "    latEdge = np.rad2deg(ds.latEdge.values)\n",
    "    cellsOnEdge = ds.cellsOnEdge.values - 1\n",
    "    edgesOnCell = ds.edgesOnCell.values - 1\n",
    "    lonCell[lonCell > 180] = lonCell[lonCell > 180] - 360\n",
    "    lonEdge[lonEdge > 180] = lonEdge[lonEdge > 180] - 360"
   ]
  }
 ],
 "metadata": {
  "kernelspec": {
   "display_name": "compass",
   "language": "python",
   "name": "compass"
  },
  "language_info": {
   "codemirror_mode": {
    "name": "ipython",
    "version": 3
   },
   "file_extension": ".py",
   "mimetype": "text/x-python",
   "name": "python",
   "nbconvert_exporter": "python",
   "pygments_lexer": "ipython3",
   "version": "3.10.12"
  }
 },
 "nbformat": 4,
 "nbformat_minor": 5
}
