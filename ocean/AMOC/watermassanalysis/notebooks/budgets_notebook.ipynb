{
 "cells": [
  {
   "cell_type": "markdown",
   "id": "1b81316c-07a1-4b5b-a0a1-5a7e8b147c70",
   "metadata": {},
   "source": [
    "# MPAS Head and Salt Budgets\n",
    "\n",
    "***"
   ]
  },
  {
   "cell_type": "code",
   "execution_count": 1,
   "id": "07546110-a133-4b31-9797-3302d4347cd2",
   "metadata": {
    "tags": []
   },
   "outputs": [],
   "source": [
    "import numpy as np\n",
    "import xarray as xr\n",
    "from datetime import datetime\n",
    "from matplotlib import pyplot as plt\n",
    "from cartopy import crs, feature\n",
    "from tqdm import tqdm\n",
    "\n",
    "plt.rcParams.update({'font.size': 12, 'axes.titlesize': 'medium'})"
   ]
  },
  {
   "cell_type": "markdown",
   "id": "1f92db2f-ca22-4122-b17e-54ed28bd1ed5",
   "metadata": {},
   "source": [
    "***"
   ]
  },
  {
   "cell_type": "code",
   "execution_count": 2,
   "id": "9e32ff7f-6750-44b5-8052-62bce4e589eb",
   "metadata": {},
   "outputs": [],
   "source": [
    "# Define run and load example results file\n",
    "restartyears = [11, 21]\n",
    "prefix = 'timeMonthly_avg_'\n",
    "resultspath = '/pscratch/sd/b/bmoorema/run_001_062/'\n",
    "runID = '20210421_sim7_CORE_60to30E2r2.mpaso'\n",
    "filename = resultspath + runID + '.hist.am.timeSeriesStatsMonthly.0001-01-01.nc'\n",
    "ds = xr.open_dataset(filename)"
   ]
  },
  {
   "cell_type": "markdown",
   "id": "583969c9-dc90-4b4a-8660-8e8b8cf4923a",
   "metadata": {},
   "source": [
    "***\n",
    "\n",
    "### Budget variables"
   ]
  },
  {
   "cell_type": "code",
   "execution_count": 3,
   "id": "eee552bf-eb7c-4ba1-aa4c-332c3d1c9047",
   "metadata": {},
   "outputs": [],
   "source": [
    "# Budget variables (missing frazil)\n",
    "namesT = {\n",
    "    'HorzAdvT'  : 'activeTracerHorizontalAdvectionTendency_temperatureHorizontalAdvectionTendency',\n",
    "    'VertAdvT'  : 'activeTracerVerticalAdvectionTendency_temperatureVerticalAdvectionTendency',\n",
    "    'HorzMixT'  : 'activeTracerHorMixTendency_temperatureHorMixTendency',\n",
    "    'VertMixT'  : 'activeTracerVertMixTendency_temperatureVertMixTendency',\n",
    "    'SurfT'     : 'activeTracerSurfaceFluxTendency_temperatureSurfaceFluxTendency',\n",
    "    'NonlocalT' : 'activeTracerNonLocalTendency_temperatureNonLocalTendency',\n",
    "    'SWT'       : 'temperatureShortWaveTendency',\n",
    "}\n",
    "\n",
    "namesS = {\n",
    "    'HorzAdvS'  : 'activeTracerHorizontalAdvectionTendency_salinityHorizontalAdvectionTendency',\n",
    "    'VertAdvS'  : 'activeTracerVerticalAdvectionTendency_salinityVerticalAdvectionTendency',\n",
    "    'HorzMixS'  : 'activeTracerHorMixTendency_salinityHorMixTendency',\n",
    "    'VertMixS'  : 'activeTracerVertMixTendency_salinityVertMixTendency',\n",
    "    'SurfS'     : 'activeTracerSurfaceFluxTendency_salinitySurfaceFluxTendency',\n",
    "    'NonlocalS' : 'activeTracerNonLocalTendency_salinityNonLocalTendency',\n",
    "}\n",
    "\n",
    "varNames = namesT | namesS"
   ]
  },
  {
   "cell_type": "markdown",
   "id": "31854932-2929-4e09-8bb4-406cc04b63a2",
   "metadata": {},
   "source": [
    "Temperature budget variables"
   ]
  },
  {
   "cell_type": "code",
   "execution_count": 4,
   "id": "aa4f27c3-fd84-491d-aa54-ee6f945bafc6",
   "metadata": {},
   "outputs": [
    {
     "name": "stdout",
     "output_type": "stream",
     "text": [
      "HorzAdvT   potential temperature tendency due to horizontal advection                degrees Celsius per second\n",
      "VertAdvT   potential temperature tendency due to vertical advection                  degrees Celsius per second\n",
      "HorzMixT   potential temperature tendency due to horizontal mixing (including Redi)  degrees Celsius per second\n",
      "VertMixT   potential temperature tendency due to vertical mixing                     degrees Celsius per second\n",
      "SurfT      potential temperature tendency due to surface fluxes                      degrees Celsius per second\n",
      "NonlocalT  potential temperature tendency due to kpp non-local flux                  degrees Celsius per second\n",
      "SWT        potential temperature tendency due to penetrating shortwave               degrees Celsius per second\n"
     ]
    }
   ],
   "source": [
    "# Temperature budget\n",
    "for varName, fullName in namesT.items():\n",
    "    attrs = ds[prefix + fullName].attrs\n",
    "    long_name, units = attrs['long_name'], attrs['units']\n",
    "    print(f'{varName:10s} {long_name:73s} {units}')"
   ]
  },
  {
   "cell_type": "markdown",
   "id": "04db6a4c-15f5-4553-9446-027998389079",
   "metadata": {},
   "source": [
    "Salinity budget variables"
   ]
  },
  {
   "cell_type": "code",
   "execution_count": 5,
   "id": "1842e595-0ebd-49bb-a79e-d0c692dec191",
   "metadata": {},
   "outputs": [
    {
     "name": "stdout",
     "output_type": "stream",
     "text": [
      "HorzAdvS   salinity tendency due to horizontal advection                PSU per second\n",
      "VertAdvS   salinity tendency due to vertical advection                  PSU per second\n",
      "HorzMixS   salinity tendency due to horizontal mixing (including Redi)  PSU per second\n",
      "VertMixS   salinity tendency due to vertical mixing                     PSU per second\n",
      "SurfS      salinity tendency due to surface fluxes                      PSU per second\n",
      "NonlocalS  salinity tendency due to kpp non-local flux                  PSU per second\n"
     ]
    }
   ],
   "source": [
    "# Salinity budget\n",
    "for varName, fullName in namesS.items():\n",
    "    attrs = ds[prefix + fullName].attrs\n",
    "    long_name, units = attrs['long_name'], attrs['units']\n",
    "    print(f'{varName:10s} {long_name:60s} {units}')"
   ]
  },
  {
   "cell_type": "markdown",
   "id": "4f21ba4d-b46f-4a9c-8415-d2e543bd5009",
   "metadata": {},
   "source": [
    "***\n",
    "\n",
    "### Budget calculation\n",
    "\n",
    "Get coordinates and subdomain"
   ]
  },
  {
   "cell_type": "code",
   "execution_count": 21,
   "id": "5fd1c925-7f1d-4cad-9fbd-53d390d9f15f",
   "metadata": {},
   "outputs": [],
   "source": [
    "# Get subdomain\n",
    "bbox = [-100, 45, 30, 85]\n",
    "filename = '/global/cfs/projectdirs/e3sm/inputdata/ocn/mpas-o/EC30to60E2r2/ocean.EC30to60E2r2.210210.nc'\n",
    "ds = xr.open_dataset(filename)\n",
    "lons = np.rad2deg(ds.lonCell.values)\n",
    "lats = np.rad2deg(ds.latCell.values)\n",
    "lons = np.where(lons > 180, lons - 360, lons)\n",
    "depth = ds.refBottomDepth.values\n",
    "subdomain, = np.where(\n",
    "    (lons > bbox[0]) & (lons < bbox[1]) &\n",
    "    (lats > bbox[2]) & (lats < bbox[3])\n",
    ")\n",
    "lons, lats = lons[subdomain], lats[subdomain]"
   ]
  },
  {
   "cell_type": "markdown",
   "id": "778d4383-606e-4f4b-badd-0d5a85a6dc53",
   "metadata": {},
   "source": [
    "LHS from restarts"
   ]
  },
  {
   "cell_type": "code",
   "execution_count": 9,
   "id": "ab5f12e0-2c07-4a65-adad-942058562c8f",
   "metadata": {},
   "outputs": [],
   "source": [
    "# Get LHS from restarts\n",
    "lhsT, lhsS = [], []\n",
    "for year in restartyears:\n",
    "    filename = resultspath + f'{runID}.rst.{year:04d}-01-01_00000.nc'\n",
    "    ds = xr.open_dataset(filename)\n",
    "    lhsT.append(ds['temperature'][0, ...].values[subdomain, ...])\n",
    "    lhsS.append(ds['salinity'][0, ...].values[subdomain, ...])\n",
    "lhsT = lhsT[1] - lhsT[0]\n",
    "lhsS = lhsS[1] - lhsS[0]"
   ]
  },
  {
   "cell_type": "markdown",
   "id": "1fc07e17-9f51-477e-8b40-aace0f214ebc",
   "metadata": {},
   "source": [
    "RHS from budget tendency variables"
   ]
  },
  {
   "cell_type": "code",
   "execution_count": 11,
   "id": "b940ad3f-aa8d-486c-9bdb-5fb8525aca2e",
   "metadata": {},
   "outputs": [
    {
     "name": "stderr",
     "output_type": "stream",
     "text": [
      "100%|██████████| 10/10 [02:52<00:00, 17.29s/it]\n"
     ]
    }
   ],
   "source": [
    "# Get RHS by time-integrating between restarts\n",
    "data = {varName: 0 for varName in varNames}\n",
    "for year in tqdm(range(*restartyears)):\n",
    "    for month in range(1, 13):\n",
    "        filename = resultspath + f'{runID}.hist.am.timeSeriesStatsMonthly.{year:04d}-{month:02d}-01.nc'\n",
    "        ds = xr.open_dataset(filename)\n",
    "        for varName, fullName in varNames.items():\n",
    "            data[varName] = data[varName] + ds[prefix + fullName][0, ...].values[subdomain, ...]"
   ]
  },
  {
   "cell_type": "markdown",
   "id": "7a59f772-0aee-472e-a61f-a409b90e3346",
   "metadata": {},
   "source": [
    "Calculate residual (frazil)"
   ]
  },
  {
   "cell_type": "code",
   "execution_count": 32,
   "id": "c83e812a-059e-4fbd-9690-ddc550e0e59c",
   "metadata": {},
   "outputs": [],
   "source": [
    "# Total seconds\n",
    "nsec = 10 * 365 * 86400\n",
    "\n",
    "# Temperature budget\n",
    "rhsT = 0\n",
    "for varName, fullName in namesT.items():\n",
    "    rhsT = rhsT + data[varName]\n",
    "resT = lhsT - rhsT * nsec\n",
    "\n",
    "# Salinity budget\n",
    "rhsS = 0\n",
    "for varName, fullName in namesS.items():\n",
    "    rhsS = rhsS + data[varName]\n",
    "resS = lhsS - rhsS * nsec"
   ]
  },
  {
   "cell_type": "markdown",
   "id": "a16188f6-c28f-4796-897b-ce605cdf3fcc",
   "metadata": {},
   "source": [
    "***\n",
    "\n",
    "### Visualization"
   ]
  },
  {
   "cell_type": "code",
   "execution_count": 35,
   "id": "e74c9365-960e-4181-9b7d-34c85d2d6a60",
   "metadata": {},
   "outputs": [
    {
     "data": {
      "image/png": "[encoded data removed]",
      "text/plain": [
       "<Figure size 800x800 with 2 Axes>"
      ]
     },
     "metadata": {},
     "output_type": "display_data"
    }
   ],
   "source": [
    "fig, axs = plt.subplots(1, 2, figsize=(8, 8))\n",
    "for ax, res in zip(axs, [resT, resS]):\n",
    "    ax.plot(res.mean(axis=0), depth)\n",
    "    ax.set_ylim(5000, 0)"
   ]
  },
  {
   "cell_type": "code",
   "execution_count": null,
   "id": "a5f05e7b-03a4-416a-8fe4-48926ef6e19e",
   "metadata": {},
   "outputs": [],
   "source": []
  }
 ],
 "metadata": {
  "kernelspec": {
   "display_name": "nersc-env",
   "language": "python",
   "name": "nersc-env"
  },
  "language_info": {
   "codemirror_mode": {
    "name": "ipython",
    "version": 3
   },
   "file_extension": ".py",
   "mimetype": "text/x-python",
   "name": "python",
   "nbconvert_exporter": "python",
   "pygments_lexer": "ipython3",
   "version": "3.12.7"
  }
 },
 "nbformat": 4,
 "nbformat_minor": 5
}
