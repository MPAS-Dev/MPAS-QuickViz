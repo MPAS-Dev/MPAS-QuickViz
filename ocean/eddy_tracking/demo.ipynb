{
 "cells": [
  {
   "cell_type": "markdown",
   "metadata": {},
   "source": [
    "# Geometry-based eddy detection and tracking algorithm\n",
    "\n",
    "1. Identify eddies in Gulf of Mexico during sample time period\n",
    "2. Track the eddies during the time period  \n",
    "\n",
    "Authors: Martin Jang, Phillip J. Wolfram\n",
    "\n",
    "Version: 2.0"
   ]
  },
  {
   "cell_type": "markdown",
   "metadata": {},
   "source": [
    "## Setup"
   ]
  },
  {
   "cell_type": "code",
   "execution_count": null,
   "metadata": {},
   "outputs": [],
   "source": [
    "import numpy as np\n",
    "from netCDF4 import Dataset, date2num\n",
    "import matplotlib.pyplot as plt\n",
    "from datetime import datetime\n",
    "#from detect_eddy import *\n",
    "#from utils import *\n",
    "import pickle\n",
    "#from Vortex import Doublelist\n",
    "import os\n",
    "import sys\n",
    "\n",
    "import r2_detect_eddy"
   ]
  },
  {
   "cell_type": "markdown",
   "metadata": {},
   "source": [
    "## Detection\n",
    "Zonal and meridional surface velocity field is to be examined for eddy identification. The detection scheme is explained in more details in \"detect_center.py\" For this demo, one month period (January 2012) of HYCOM data is used.    "
   ]
  },
  {
   "cell_type": "code",
   "execution_count": null,
   "metadata": {},
   "outputs": [],
   "source": [
    "year = 2012\n",
    "\n",
    "# Load latitude and longitude in Gulf of Mexico\n",
    "Y, X = loadLatLon('GOM')\n",
    "\n",
    "# Load num_time of corresponding year\n",
    "# num_time is datetime in hours since 2000/01/01 00:00:00\n",
    "with Dataset('gom_reanalysis.nc', 'r') as source:\n",
    "    num_time = source['time/' + str(year)][:]\n",
    "    units = source['time/' + str(year)].units\n",
    "    calendar = source['time/' + str(year)].calendar\n",
    "\n",
    "# Find num_time of first and last day of sample time period\n",
    "num_year_start = date2num(datetime(year, 1, 1, 0, 0,), units, calendar)\n",
    "num_year_end = date2num(datetime(year, 2, 1, 0, 0,), units, calendar)  \n",
    "\n",
    "# Calculate number of days in each year\n",
    "number_of_days = np.int((num_year_end - num_year_start) / 24)\n",
    "\n",
    "# Initialize variables\n",
    "detection = np.ma.zeros((number_of_days, 325, 430))\n",
    "divergence = np.ma.zeros((number_of_days, 325, 430))\n",
    "vorticity = np.ma.zeros((number_of_days, 325, 430))\n",
    "okuboWeiss = np.ma.zeros((number_of_days, 325, 430))\n",
    "uVel = np.ma.zeros((number_of_days, 325, 430))\n",
    "vVel = np.ma.zeros((number_of_days, 325, 430))\n",
    "\n",
    "# Initialize first day of each year\n",
    "day_start = num_year_start\n",
    "\n",
    "# Compute dx and dy\n",
    "dx, dy = dxdy('GOM')\n",
    "\n",
    "day_count = 0\n",
    "while (day_start < num_year_end):\n",
    "    day_end = day_start + 24\n",
    "    time = np.where((day_start <= num_time) & (num_time < day_end))[0]\n",
    "    day_start = day_end\n",
    "\n",
    "    # Load velocity for each day of year\n",
    "    u, v = loadVelocity_GOM(year, time)        \n",
    "    \n",
    "    # Detect eddy centers\n",
    "    detection_result = detect_center(u, v)\n",
    "    \n",
    "    # Calculate divergence, vorticity, and Okuno-Weiss parameter\n",
    "    div, vort, ow = dvo(u, v, dx, dy)    \n",
    "    \n",
    "    # Store results\n",
    "    detection[day_count, :, :] = detection_result\n",
    "    divergence[day_count, :, :] = div\n",
    "    vorticity[day_count, :, :] = vort\n",
    "    okuboWeiss[day_count, :, :] = ow\n",
    "    uVel[day_count, :, :] = u\n",
    "    vVel[day_count, :, :] = v\n",
    "    \n",
    "    day_count += 1\n",
    "    print \"Searching ({}/{})\".format(day_count, number_of_days)"
   ]
  },
  {
   "cell_type": "markdown",
   "metadata": {},
   "source": [
    "# plot detection result"
   ]
  },
  {
   "cell_type": "code",
   "execution_count": null,
   "metadata": {},
   "outputs": [],
   "source": [
    "day = 1\n",
    "plotDetection(detection[day, :, :], vorticity[day, :, :], okuboWeiss[day, :, :], uVel[day, :, :], vVel[day, :, :], Y, X)"
   ]
  },
  {
   "cell_type": "markdown",
   "metadata": {},
   "source": [
    "# new Williamas R2 algorithm\n",
    "\n",
    " 1. create eddy mask region via Okubo Weiss thresholding (vs -0.2 as default)\n",
    " 2. label continguous regions on the mask as distinct features\n",
    " 3. evaluate these features building 1D coordinates out from isosurfaces (use marching-approach)\n",
    " 4. evaluate the feature area vs isosurface based on r2 condition to find eddy\n",
    " 5. search remainder of feature and rest of features to find all eddies to produce a labeled eddy mask for the domain\n",
    " 6. assume eddy \"center\" is at region of minimum Okubo Weiss value in each eddy mask region"
   ]
  },
  {
   "cell_type": "code",
   "execution_count": null,
   "metadata": {},
   "outputs": [],
   "source": [
    "import r2_detect_eddy\n",
    "reload(r2_detect_eddy)\n",
    "# identify distinct regions of possible eddies\n",
    "mask, nfeatures = r2_detect_eddy.ow_eddy_labeled_mask(ow, mineddycells=100)"
   ]
  },
  {
   "cell_type": "code",
   "execution_count": null,
   "metadata": {},
   "outputs": [],
   "source": [
    "ow = okuboWeiss[0,:,:]\n",
    "\n",
    "mask,_ = r2_detect_eddy.ow_eddy_labeled_mask(ow, mineddycells=100)\n",
    "maskfull,_ = r2_detect_eddy.ow_eddy_labeled_mask(ow)\n",
    "x, y = np.meshgrid(X, Y)\n",
    "plt.pcolor(x,y,mask)\n",
    "plt.clim(25,27)\n",
    "plt.colorbar()"
   ]
  },
  {
   "cell_type": "code",
   "execution_count": null,
   "metadata": {},
   "outputs": [],
   "source": [
    "x, y = np.meshgrid(X, Y)\n",
    "plt.pcolor(x,y,mask)\n",
    "plt.colorbar()\n",
    "plt.figure()\n",
    "plt.pcolor(x,y,maskfull)\n",
    "plt.colorbar()"
   ]
  },
  {
   "cell_type": "code",
   "execution_count": null,
   "metadata": {},
   "outputs": [],
   "source": [
    "owtest = ow.copy()\n",
    "owtest[mask != 28] = 0\n",
    "plt.pcolor(x,y,owtest)\n",
    "plt.colorbar()"
   ]
  },
  {
   "cell_type": "code",
   "execution_count": null,
   "metadata": {
    "scrolled": false
   },
   "outputs": [],
   "source": [
    "reload(r2_detect_eddy)\n",
    "fnum = 28\n",
    "feature = (mask==fnum)\n",
    "for r2 in [0.5, 0.75, 0.9, 0.95]:\n",
    "    foundeddy, eddyfeature = r2_detect_eddy.find_eddy(feature, ow, dx*dy, r2cond=r2)\n",
    "    plt.figure(figsize=(5,10))\n",
    "    plt.subplot(2,1,1)\n",
    "    plt.pcolor(eddyfeature)\n",
    "    plt.subplot(2,1,2)\n",
    "    plt.pcolor(feature)\n",
    "    r2_detect_eddy.r2check(ow[eddyfeature], (dx*dy)[eddyfeature], plot=True, minr2points=-1)"
   ]
  },
  {
   "cell_type": "code",
   "execution_count": null,
   "metadata": {
    "scrolled": false
   },
   "outputs": [],
   "source": [
    "reload(r2_detect_eddy)\n",
    "alleddies = r2_detect_eddy.find_all_eddies(ow, dx*dy, mineddycells=100, minr2points=30, r2cond=0.75)\n",
    "plt.pcolor(x, y, mask)\n",
    "plt.colorbar()\n",
    "plt.figure()\n",
    "plt.pcolor(x, y, alleddies)\n",
    "plt.colorbar()"
   ]
  },
  {
   "cell_type": "code",
   "execution_count": null,
   "metadata": {},
   "outputs": [],
   "source": [
    "plt.pcolor((alleddies!=4))\n",
    "reload(r2_detect_eddy)\n",
    "r2_detect_eddy.r2check(ow[alleddies==4], (dx*dy)[alleddies==4], plot=True, minr2points=-1)"
   ]
  },
  {
   "cell_type": "code",
   "execution_count": null,
   "metadata": {},
   "outputs": [],
   "source": [
    "reload(r2_detect_eddy)\n",
    "alleddies = r2_detect_eddy.find_all_eddies(ow, dx*dy, mineddycells=100, minr2points=30)\n",
    "eddycenters = r2_detect_eddy.eddy_centers(alleddies, ow)\n",
    "plt.pcolor(eddycenters)\n",
    "plt.colorbar()\n",
    "plt.figure()\n",
    "plt.pcolor(alleddies)"
   ]
  },
  {
   "cell_type": "code",
   "execution_count": null,
   "metadata": {
    "scrolled": false
   },
   "outputs": [],
   "source": [
    "day=0\n",
    "ow = okuboWeiss[day,:,:]\n",
    "\n",
    "import numpy.ma as ma\n",
    "import r2_detect_eddy\n",
    "reload(r2_detect_eddy)\n",
    "\n",
    "for r2 in [0.5, 0.75, 0.9, 0.95]:\n",
    "    \n",
    "    # compute eddies\n",
    "    alleddies = r2_detect_eddy.find_all_eddies(ow, dx*dy, mineddycells=100, r2cond=r2, minr2points=30)\n",
    "    eddycenters = r2_detect_eddy.eddy_centers(alleddies, ow)\n",
    "    eddycenters = ma.array(data=eddycenters, mask = ow.mask)\n",
    "\n",
    "    # plot eddies\n",
    "    plt.figure()\n",
    "    plotDetection(eddycenters, vorticity[day, :, :], okuboWeiss[day, :, :]*(alleddies > 0), uVel[day, :, :], vVel[day, :, :], Y, X)\n",
    "    plt.title('Williams method with r$^2$={:.2f}'.format(r2))\n",
    "    \n",
    "plt.figure()\n",
    "plotDetection(detection[day, :, :], vorticity[day, :, :], okuboWeiss[day, :, :], uVel[day, :, :], vVel[day, :, :], Y, X)\n",
    "plt.title('Nencioli method')"
   ]
  },
  {
   "cell_type": "markdown",
   "metadata": {},
   "source": [
    "## plot\n",
    "Shows center of detected eddies with velocity field and vorticity dominant regions."
   ]
  },
  {
   "cell_type": "code",
   "execution_count": null,
   "metadata": {
    "scrolled": true
   },
   "outputs": [],
   "source": [
    "import numpy.ma as ma\n",
    "import r2_detect_eddy\n",
    "reload(r2_detect_eddy)\n",
    "\n",
    "for day in np.arange(31):    # choose between 1 ~ 31\n",
    "    for r2 in [0.5, 0.75, 0.9, 0.95]:\n",
    "        \n",
    "        plt.close()\n",
    "\n",
    "        # compute eddies\n",
    "        ow = okuboWeiss[day, :, :]\n",
    "        alleddies = r2_detect_eddy.find_all_eddies(ow, dx*dy, \n",
    "                                                   mineddycells=100, r2cond=r2, minr2points=30)\n",
    "        eddycenters = r2_detect_eddy.eddy_centers(alleddies, ow)\n",
    "        eddycenters = ma.array(data=eddycenters, mask=okuboWeiss[0, :, :].mask)\n",
    "\n",
    "        # plot eddies\n",
    "        plt.figure()\n",
    "        plotDetection(eddycenters, vorticity[day, :, :], okuboWeiss[day, :, :]*(alleddies > 0), uVel[day, :, :], vVel[day, :, :], Y, X)\n",
    "        plt.title('Williams method with r$^2$={:.2f}'.format(r2))\n",
    "        plt.title('day {:2d}'.format(day+1))\n",
    "        plt.xlim(-98, -82)\n",
    "        plt.ylim(18, 32)\n",
    "        plt.savefig('{:.2f}WilliamsDay{:02d}.png'.format(r2,day+1))\n",
    "    \n",
    "    plt.figure()\n",
    "    plotDetection(detection[day, :, :], vorticity[day, :, :], okuboWeiss[day, :, :], uVel[day, :, :], vVel[day, :, :], Y, X)\n",
    "    plt.title('Nencioli method')\n",
    "    plt.title('day {:2d}'.format(day+1))\n",
    "    plt.xlim(-98, -82)\n",
    "    plt.ylim(18, 32)\n",
    "    plt.savefig('NenioliDay{:02d}.png'.format(day+1))"
   ]
  },
  {
   "cell_type": "markdown",
   "metadata": {},
   "source": [
    "# make a movie"
   ]
  },
  {
   "cell_type": "code",
   "execution_count": null,
   "metadata": {},
   "outputs": [],
   "source": [
    "# make a movie\n",
    "from subprocess import call\n",
    "def make_movie(moviename):\n",
    "    \n",
    "    import os\n",
    "    os.remove(moviename + '.mp4')\n",
    "    \n",
    "    args = ['ffmpeg', \n",
    "            '-framerate', '3',\n",
    "            '-pattern_type', 'glob', \n",
    "            '-i', moviename + '*.png',\n",
    "            '-c:v', 'libx264', \n",
    "            '-r', '30',\n",
    "            '-profile:v', 'high',\n",
    "            '-crf', '20', \n",
    "            '-pix_fmt', 'yuv420p', \n",
    "            moviename +  '.mp4']\n",
    "    call(args)\n",
    "    \n",
    "williamsnames = ['{:.2f}WilliamsDay'.format(anum) for anum in [0.5, 0.75, 0.9, 0.95]]\n",
    "    \n",
    "for aname in ['NenioliDay'] + williamsnames:\n",
    "    print aname\n",
    "    make_movie(aname)"
   ]
  },
  {
   "cell_type": "markdown",
   "metadata": {},
   "source": [
    "## Tracking"
   ]
  },
  {
   "cell_type": "code",
   "execution_count": null,
   "metadata": {},
   "outputs": [],
   "source": [
    "eddy_centers = detection.copy()\n",
    "time_idx, lat_idx, lon_idx = eddy_centers.shape    \n",
    "\n",
    "# Initialize eddy counter\n",
    "eddy_counter = 0\n",
    "# Set searching window width\n",
    "searching_width = 21    # odd number; approx. 30 miles = 48km for GOM\n",
    "\n",
    "for t in np.arange(time_idx):\n",
    "\n",
    "    # Cyclonic eddy    \n",
    "    for i, j in zip(*np.where(eddy_centers[t, :, :] == 1)):\n",
    "\n",
    "        # Create a new eddy object\n",
    "        eddy_counter += 1\n",
    "        globals()[\"eddy_\" + str(eddy_counter)] = Doublelist()\n",
    "\n",
    "        # convert t to num_time\n",
    "        num_time_t = date2num(datetime(year, 1, 1,), units, calendar) + t * 24\n",
    "        \n",
    "        # record num_time, lat, lon, and mode\n",
    "        globals()[\"eddy_\" + str(eddy_counter)].append(num_time_t, i, j, 1)\n",
    "\n",
    "        # Place a check mark at the location by change 1 to NaN\n",
    "        eddy_centers[t, i, j] = np.NaN\n",
    "\n",
    "        # While switch is on, search and append to eddy track list if search is successful\n",
    "        switch = True\n",
    "        \n",
    "        # Copy the time and location of current eddy\n",
    "        search_day = t.copy(); search_lat_idx = i.copy(); search_lon_idx = j.copy()\n",
    "        while switch:\n",
    "            # Look for an eddy or eddies inside the searching window\n",
    "            search_day, search_lat_idx, search_lon_idx = search(search_day, search_lat_idx, search_lon_idx, 1, searching_width, eddy_centers, time_idx)             \n",
    "            if search_day != None:\n",
    "                # convert search_day to num_time\n",
    "                num_time_search_day = date2num(datetime(year, 1, 1,), units, calendar) + search_day * 24\n",
    "                \n",
    "                # record num_time, lat, lon, and mode\n",
    "                globals()[\"eddy_\" + str(eddy_counter)].append(num_time_search_day, search_lat_idx, search_lon_idx, 1)\n",
    "\n",
    "                # Place a check mark at the location by change 1 to NaN\n",
    "                eddy_centers[search_day, search_lat_idx, search_lon_idx] = np.NaN\n",
    "            else:\n",
    "                switch = False\n",
    "\n",
    "    # Anti-cyclonic eddy    \n",
    "    for i, j in zip(*np.where(eddy_centers[t, :, :] == -1)):\n",
    "\n",
    "        # Create new eddys\n",
    "        eddy_counter += 1\n",
    "        globals()[\"eddy_\" + str(eddy_counter)] = Doublelist()\n",
    "\n",
    "        # convert t to num_time\n",
    "        num_time_t = date2num(datetime(year, 1, 1,), units, calendar) + t * 24\n",
    "        \n",
    "        # record num_time, lat, lon, and mode\n",
    "        globals()[\"eddy_\" + str(eddy_counter)].append(num_time_t, i, j, -1)\n",
    "\n",
    "        # Place a check mark at the location by change 1 to NaN\n",
    "        eddy_centers[t, i, j] = np.NaN\n",
    "\n",
    "        # While switch is on, search and append to eddy track list if search is successful\n",
    "        switch = True\n",
    "        search_day = t.copy(); search_lat_idx = i.copy(); search_lon_idx = j.copy()\n",
    "        while switch:\n",
    "            # Look for an eddy or eddies inside the searching window\n",
    "            search_day, search_lat_idx, search_lon_idx = search(search_day, search_lat_idx, search_lon_idx, -1, searching_width, eddy_centers, time_idx) \n",
    "            if search_day != None:\n",
    "\n",
    "                # convert search_day to num_time\n",
    "                num_time_search_day = date2num(datetime(year, 1, 1,), units, calendar) + search_day * 24\n",
    "                \n",
    "                # record num_time, lat, lon, and mode\n",
    "                globals()[\"eddy_\" + str(eddy_counter)].append(num_time_search_day, search_lat_idx, search_lon_idx, -1)\n",
    "\n",
    "                # Place a check mark at the location by change 1 to NaN\n",
    "                eddy_centers[search_day, search_lat_idx, search_lon_idx] = np.NaN\n",
    "            else:\n",
    "                switch = False\n",
    "\n",
    "print \"Total number of eddies detected: {}\".format(eddy_counter)"
   ]
  },
  {
   "cell_type": "markdown",
   "metadata": {},
   "source": [
    "## View eddy track sample\n",
    "\n",
    "The total number of eddies detected is equal to the number of eddy objects created. So, for example when 100 eddies are detected, 100 eddy objects (eddy_1, eddy_2, ...., eddy_100) would have been created and each eddy can be access by methods such as show(), lifetime(), mode(), and speed(). "
   ]
  },
  {
   "cell_type": "code",
   "execution_count": null,
   "metadata": {
    "scrolled": true
   },
   "outputs": [],
   "source": [
    "eddy_1.show()\n",
    "print(eddy_1.lifetime())\n",
    "print(eddy_1.mode())\n",
    "print(eddy_1.speed())"
   ]
  },
  {
   "cell_type": "code",
   "execution_count": null,
   "metadata": {},
   "outputs": [],
   "source": [
    "def find_local_mins(A, Astart=-1.0, neigh=3, maxevalpoints=30):\n",
    "    nx, ny = A.shape\n",
    "    localmins = np.maximum(nx,ny)*np.ones((2,maxevalpoints),dtype='i')\n",
    "    imin=0\n",
    "    for j in np.arange(neigh, ny-neigh):\n",
    "        for i in np.arange(neigh, nx-neigh):\n",
    "            Aminneigh = np.min(A[i-neigh:i+neigh,j-neigh:j+neigh])\n",
    "            if A[i,j] < Astart and A[i,j] == Aminneigh:\n",
    "                localmins[:,imin] = (i,j)\n",
    "                imin += 1\n",
    "                if imin == maxevalpoints:\n",
    "                    return localmins\n",
    "    \n",
    "    # remove hanging nans\n",
    "    localmins = localmins[:,:imin]\n",
    "    return localmins\n",
    "#mins = find_local_mins(okuboWeiss[0,:,:], neigh=10, \n",
    "#                       maxevalpoints=np.prod(okuboWeiss[0,:,:].shape))"
   ]
  }
 ],
 "metadata": {
  "kernelspec": {
   "display_name": "Python 3",
   "language": "python",
   "name": "python3"
  },
  "language_info": {
   "codemirror_mode": {
    "name": "ipython",
    "version": 3
   },
   "file_extension": ".py",
   "mimetype": "text/x-python",
   "name": "python",
   "nbconvert_exporter": "python",
   "pygments_lexer": "ipython3",
   "version": "3.7.3"
  }
 },
 "nbformat": 4,
 "nbformat_minor": 2
}
