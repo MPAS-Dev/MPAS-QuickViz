{
 "cells": [
  {
   "cell_type": "code",
   "execution_count": null,
   "metadata": {
    "collapsed": true
   },
   "outputs": [],
   "source": [
    "# Plot horizontal planes and vertical columns within a specified patch of latitude and longitude.\n",
    "\n",
    "# input file locations:\n",
    "wd = '/lustre/scratch2/turquoise/mpeterse/runs'\n",
    "dirName1 = 'c70x'\n",
    "dirName2 = 'c70y'\n",
    "fileName = 'output/output.0001-01-01_00.00.00.nc'\n",
    "meshFileName = 'init.nc'\n",
    "\n",
    "iTime = 5\n",
    "kLevel = 20\n",
    "\n",
    "# output file location, for plots:\n",
    "writeOutput = False\n",
    "outputDir='figures'\n",
    "\n",
    "# Variables: single lines\n",
    "varList = ['salinity', 'vertTransportVelocityTop','divergence']\n",
    "\n",
    "# title and labels\n",
    "titleText = ''\n",
    "xLabel = 'time, days runs:'+dirName1+','+dirName2\n",
    "legend1=\"ocean/develop\"\n",
    "legend2=\"fully split FCT\"\n",
    "endTime = 360\n",
    "\n",
    "# line types:\n",
    "lt = '-:'"
   ]
  },
  {
   "cell_type": "code",
   "execution_count": null,
   "metadata": {
    "collapsed": true
   },
   "outputs": [],
   "source": [
    "import matplotlib.pyplot as plt\n",
    "from matplotlib.tri import Triangulation\n",
    "from matplotlib.patches import Polygon\n",
    "from matplotlib.collections import PatchCollection\n",
    "import numpy as np\n",
    "import xarray as xr\n",
    "import subprocess\n",
    "import os \n",
    "# custom libraries\n",
    "from simple_plotting import plot_horiz, plot_var, rad2deg, deg2rad, plot_poly\n",
    "# define plot dimensions\n",
    "%matplotlib inline  \n",
    "plt.rcParams[\"figure.figsize\"] = (12.,9.)"
   ]
  },
  {
   "cell_type": "code",
   "execution_count": null,
   "metadata": {},
   "outputs": [],
   "source": [
    "# open the first netCDF file for reading.\n",
    "filePathName = wd + '/' + dirName1 + '/' + fileName\n",
    "print('Reading: ' + filePathName)\n",
    "ds = xr.open_dataset(filePathName)\n",
    "\n",
    "meshPathName = wd + '/' + dirName1 + '/' + meshFileName\n",
    "print('Reading: ' + meshPathName)\n",
    "mesh = xr.open_dataset(meshPathName).squeeze()"
   ]
  },
  {
   "cell_type": "code",
   "execution_count": null,
   "metadata": {
    "collapsed": true
   },
   "outputs": [],
   "source": [
    "# join mesh and sim\n",
    "dsvars = ds.variables.keys()\n",
    "meshvars = mesh.variables.keys()\n",
    "dropvars = np.intersect1d(dsvars, meshvars)\n",
    "ds = ds.merge(mesh.drop(dropvars), join='left')\n",
    "ds = ds.set_coords(['lonCell','latCell'])\n",
    "zcoord = ds.refZMid.values"
   ]
  },
  {
   "cell_type": "code",
   "execution_count": null,
   "metadata": {
    "collapsed": true
   },
   "outputs": [],
   "source": [
    "def plot_profile(variable, atime=-1, maxLayers=60, dc=None):\n",
    "    for kk in np.arange(np.minimum(maxLayers,variable.shape[-1])):\n",
    "        plt.figure()\n",
    "        vartime = variable[atime,:,kk]\n",
    "        vartime[np.where(vartime < -1e33)] = np.nan\n",
    "        pc = plot_poly(vartime, dspoints.verticesOnCell.values-1, dspoints.nEdgesOnCell.values, rad2deg(ds.lonVertex.values), rad2deg(ds.latVertex.values), cmap='seismic', colorbar=False)\n",
    "        plt.title(variable.name + ' Layer %d (%f m)'%(kk, ds.refZMid[kk]))\n",
    "        if dc is not None:\n",
    "            #pc.set_clim(np.nanmean(vartime)-dc, np.nanmean(vartime)+dc)\n",
    "            pc.set_clim(-dc, +dc)\n",
    "            cb = plt.colorbar(pc)"
   ]
  },
  {
   "cell_type": "code",
   "execution_count": null,
   "metadata": {
    "collapsed": true
   },
   "outputs": [],
   "source": [
    "def plot_var(variable, time=-1, maxdepth=-5300.):\n",
    "    if not 'nCells' in variable.dims:\n",
    "        return\n",
    "    variable = variable.isel(nCells=np.arange(10))\n",
    "    nmax = np.minimum(ds.maxLevelCell.values.max(), np.where(zcoord < maxdepth)[0][0])\n",
    "    for ii in np.arange(len(variable.nCells)):\n",
    "        lon = rad2deg(variable.lonCell.values[ii])\n",
    "        lat = rad2deg(variable.latCell.values[ii])\n",
    "        plt.plot(variable[time,ii,:nmax],zcoord[:nmax], '-', label='lon=%.4f, lat=%.4f'%(lon,lat))\n",
    "    plt.ylabel('Depth (m)')\n",
    "    plt.legend(loc='best',ncol=2)\n",
    "    attrs = variable.attrs\n",
    "    plt.xlabel(attrs['long_name'][0:100] + ' ' + attrs['units'])\n",
    "    "
   ]
  },
  {
   "cell_type": "code",
   "execution_count": null,
   "metadata": {},
   "outputs": [],
   "source": [
    "# define plotting location and number of cells\n",
    "plotlon = 128\n",
    "plotlat = 11.5\n",
    "ntotal = 100\n",
    "\n",
    "dist = (ds.lonCell.values - deg2rad(plotlon))**2.0 + (ds.latCell.values - deg2rad(plotlat))**2.0\n",
    "points = np.where(dist < np.sort(dist)[ntotal])[0] # np.min(dist))[0]\n",
    "dspoints = ds.isel(nCells=points)\n",
    "\n",
    "plt.plot(rad2deg(ds.lonCell), rad2deg(ds.latCell),'.',ms=0.1)\n",
    "plt.plot(rad2deg(dspoints.lonCell), rad2deg(dspoints.latCell), 'r.')"
   ]
  },
  {
   "cell_type": "code",
   "execution_count": null,
   "metadata": {
    "scrolled": false
   },
   "outputs": [],
   "source": [
    "var = dspoints.maxLevelCell[:]\n",
    "pc = plot_poly(var, dspoints.verticesOnCell.values-1, dspoints.nEdgesOnCell.values, \n",
    "               rad2deg(ds.lonVertex.values), rad2deg(ds.latVertex.values), colorbar=False, cmap='seismic')\n",
    "#pc.set_clim((var.mean()-2e-5,var.mean()+2e-5))\n",
    "plt.colorbar(pc)"
   ]
  },
  {
   "cell_type": "code",
   "execution_count": null,
   "metadata": {
    "scrolled": false
   },
   "outputs": [],
   "source": [
    "salinity = dspoints.salinity[iTime,:,kLevel]\n",
    "pc = plot_poly(salinity, dspoints.verticesOnCell.values-1, dspoints.nEdgesOnCell.values, \n",
    "               rad2deg(ds.lonVertex.values), rad2deg(ds.latVertex.values), colorbar=False, cmap='seismic')\n",
    "pc.set_clim((salinity.mean()-.1,salinity.mean()+.1))\n",
    "plt.colorbar(pc)"
   ]
  },
  {
   "cell_type": "code",
   "execution_count": null,
   "metadata": {
    "scrolled": false
   },
   "outputs": [],
   "source": [
    "var = dspoints.vertTransportVelocityTop[iTime,:,kLevel+1]\n",
    "pc = plot_poly(var, dspoints.verticesOnCell.values-1, dspoints.nEdgesOnCell.values, \n",
    "               rad2deg(ds.lonVertex.values), rad2deg(ds.latVertex.values), colorbar=False, cmap='seismic')\n",
    "pc.set_clim((var.mean()-2e-5,var.mean()+2e-5))\n",
    "plt.colorbar(pc)"
   ]
  },
  {
   "cell_type": "code",
   "execution_count": null,
   "metadata": {
    "scrolled": false
   },
   "outputs": [],
   "source": [
    "var = dspoints.vertVelocityTop[iTime,:,kLevel+1]\n",
    "pc = plot_poly(var, dspoints.verticesOnCell.values-1, dspoints.nEdgesOnCell.values, \n",
    "               rad2deg(ds.lonVertex.values), rad2deg(ds.latVertex.values), colorbar=False, cmap='seismic')\n",
    "pc.set_clim((var.mean()-4e-5,var.mean()+4e-5))\n",
    "plt.colorbar(pc)"
   ]
  },
  {
   "cell_type": "code",
   "execution_count": null,
   "metadata": {},
   "outputs": [],
   "source": [
    "divergence = dspoints.divergence[iTime,:,kLevel]\n",
    "pc = plot_poly(divergence, dspoints.verticesOnCell.values-1, dspoints.nEdgesOnCell.values, \n",
    "               rad2deg(ds.lonVertex.values), rad2deg(ds.latVertex.values), colorbar=False, cmap='seismic')\n",
    "pc.set_clim((-1e-6,1e-6))\n",
    "plt.colorbar(pc)"
   ]
  },
  {
   "cell_type": "code",
   "execution_count": null,
   "metadata": {},
   "outputs": [],
   "source": [
    "plot_var(dspoints.salinity,time=iTime)"
   ]
  },
  {
   "cell_type": "code",
   "execution_count": null,
   "metadata": {},
   "outputs": [],
   "source": [
    "plot_var(dspoints.vertTransportVelocityTop)"
   ]
  },
  {
   "cell_type": "code",
   "execution_count": null,
   "metadata": {},
   "outputs": [],
   "source": [
    "plot_var(dspoints.divergence)"
   ]
  },
  {
   "cell_type": "code",
   "execution_count": null,
   "metadata": {
    "collapsed": true,
    "scrolled": false
   },
   "outputs": [],
   "source": [
    "# Horizontal sections at every level:\n",
    "#plot_profile(dspoints.salinity, atime=iTime, dc=0.2)"
   ]
  },
  {
   "cell_type": "code",
   "execution_count": null,
   "metadata": {
    "collapsed": true,
    "scrolled": false
   },
   "outputs": [],
   "source": [
    "# Horizontal sections at every level:\n",
    "#plot_profile(dspoints.vertTransportVelocityTop, atime=iTime, dc=1e-4)"
   ]
  },
  {
   "cell_type": "code",
   "execution_count": null,
   "metadata": {},
   "outputs": [],
   "source": [
    "# define plotting location and number of cells\n",
    "plotlon = 171\n",
    "plotlat = 0\n",
    "ntotal = 100\n",
    "\n",
    "dist = (ds.lonCell.values - deg2rad(plotlon))**2.0 + (ds.latCell.values - deg2rad(plotlat))**2.0\n",
    "points = np.where(dist < np.sort(dist)[ntotal])[0] # np.min(dist))[0]\n",
    "dspoints = ds.isel(nCells=points)\n",
    "\n",
    "plt.plot(rad2deg(ds.lonCell), rad2deg(ds.latCell),'.',ms=0.1)\n",
    "plt.plot(rad2deg(dspoints.lonCell), rad2deg(dspoints.latCell), 'r.')"
   ]
  },
  {
   "cell_type": "code",
   "execution_count": null,
   "metadata": {},
   "outputs": [],
   "source": [
    "var = dspoints.maxLevelCell[:]\n",
    "pc = plot_poly(var, dspoints.verticesOnCell.values-1, dspoints.nEdgesOnCell.values, \n",
    "               rad2deg(ds.lonVertex.values), rad2deg(ds.latVertex.values), colorbar=False, cmap='seismic')\n",
    "#pc.set_clim((var.mean()-2e-5,var.mean()+2e-5))\n",
    "plt.colorbar(pc)"
   ]
  },
  {
   "cell_type": "code",
   "execution_count": null,
   "metadata": {
    "scrolled": false
   },
   "outputs": [],
   "source": [
    "salinity = dspoints.salinity[iTime,:,kLevel]\n",
    "pc = plot_poly(salinity, dspoints.verticesOnCell.values-1, dspoints.nEdgesOnCell.values, \n",
    "               rad2deg(ds.lonVertex.values), rad2deg(ds.latVertex.values), colorbar=False, cmap='seismic')\n",
    "pc.set_clim((salinity.mean()-.2,salinity.mean()+.2))\n",
    "plt.colorbar(pc)"
   ]
  },
  {
   "cell_type": "code",
   "execution_count": null,
   "metadata": {},
   "outputs": [],
   "source": [
    "divergence = dspoints.divergence[iTime,:,kLevel]\n",
    "pc = plot_poly(divergence, dspoints.verticesOnCell.values-1, dspoints.nEdgesOnCell.values, \n",
    "               rad2deg(ds.lonVertex.values), rad2deg(ds.latVertex.values), colorbar=False, cmap='seismic')\n",
    "pc.set_clim((-1e-6,1e-6))\n",
    "plt.colorbar(pc)"
   ]
  },
  {
   "cell_type": "code",
   "execution_count": null,
   "metadata": {
    "scrolled": false
   },
   "outputs": [],
   "source": [
    "plot_var(dspoints.salinity,time=iTime)"
   ]
  },
  {
   "cell_type": "code",
   "execution_count": null,
   "metadata": {
    "scrolled": false
   },
   "outputs": [],
   "source": [
    "plot_var(dspoints.vertVelocityTop)"
   ]
  },
  {
   "cell_type": "code",
   "execution_count": null,
   "metadata": {},
   "outputs": [],
   "source": [
    "plot_var(dspoints.vertTransportVelocityTop)"
   ]
  },
  {
   "cell_type": "code",
   "execution_count": null,
   "metadata": {
    "scrolled": false
   },
   "outputs": [],
   "source": [
    "plot_var(dspoints.divergence)"
   ]
  },
  {
   "cell_type": "code",
   "execution_count": null,
   "metadata": {
    "collapsed": true,
    "scrolled": false
   },
   "outputs": [],
   "source": [
    "# Horizontal sections at every level:\n",
    "#plot_profile(dspoints.salinity, atime=iTime, dc=2e-4)"
   ]
  },
  {
   "cell_type": "code",
   "execution_count": null,
   "metadata": {
    "collapsed": true
   },
   "outputs": [],
   "source": [
    "# Horizontal sections at every level:\n",
    "#plot_profile(dspoints.vertTransportVelocityTop, atime=iTime, dc=2e-4)"
   ]
  }
 ],
 "metadata": {
  "kernelspec": {
   "display_name": "Python 2",
   "language": "python",
   "name": "python2"
  },
  "language_info": {
   "codemirror_mode": {
    "name": "ipython",
    "version": 2
   },
   "file_extension": ".py",
   "mimetype": "text/x-python",
   "name": "python",
   "nbconvert_exporter": "python",
   "pygments_lexer": "ipython2",
   "version": "2.7.13"
  }
 },
 "nbformat": 4,
 "nbformat_minor": 2
}
