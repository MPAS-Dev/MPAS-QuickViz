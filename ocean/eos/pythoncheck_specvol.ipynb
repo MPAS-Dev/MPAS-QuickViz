{
 "cells": [
  {
   "cell_type": "code",
   "execution_count": 3,
   "id": "f6b57e8a",
   "metadata": {},
   "outputs": [],
   "source": [
    "import os\n",
    "import xarray \n",
    "import numpy as np\n",
    "import matplotlib as mpl\n",
    "import matplotlib.pyplot as plt\n",
    "from matplotlib import colors\n",
    "import gsw\n",
    "from gsw import freezing\n",
    "from gsw.density import sigma0\n",
    "import cmocean.cm as cmo\n",
    "from netCDF4 import Dataset as netcdf_dataset\n",
    "import numpy.ma as ma\n",
    "import pandas as pd\n",
    "import glob"
   ]
  },
  {
   "cell_type": "code",
   "execution_count": 23,
   "id": "423ce232",
   "metadata": {},
   "outputs": [],
   "source": [
    "v = roquet2015_refprofile(1000.)+gsw_specvol_poly75t(30., 10., 1000.)\n",
    "vv, alpha, beta = gsw.density.specvol_alpha_beta(30., 10., 1000.)"
   ]
  },
  {
   "cell_type": "code",
   "execution_count": 24,
   "id": "38a74f51",
   "metadata": {},
   "outputs": [
    {
     "data": {
      "text/plain": [
       "-5.421010862427522e-19"
      ]
     },
     "execution_count": 24,
     "metadata": {},
     "output_type": "execute_result"
    }
   ],
   "source": [
    "vv-v"
   ]
  },
  {
   "cell_type": "code",
   "execution_count": 25,
   "id": "32b6e307",
   "metadata": {},
   "outputs": [
    {
     "data": {
      "text/plain": [
       "5.569825672086308e-16"
      ]
     },
     "execution_count": 25,
     "metadata": {},
     "output_type": "execute_result"
    }
   ],
   "source": [
    "np.abs(vv-v)/np.abs(v)"
   ]
  },
  {
   "cell_type": "code",
   "execution_count": 11,
   "id": "b0c6e9b8",
   "metadata": {},
   "outputs": [],
   "source": [
    "def gsw_specvol_poly75t(SA, CT, P):\n",
    "    SAu = 40 * 35.16504/35; CTu = 40; Pu = 1e4\n",
    "    deltaS = 24\n",
    "    V000 = 1.0769995862e-03; V100 = -3.1038981976e-04; V200 = 6.6928067038e-04;\n",
    "    V300 = -8.5047933937e-04; V400 = 5.8086069943e-04; V500 = -2.1092370507e-04;\n",
    "    V600 = 3.1932457305e-05; V010 = -1.5649734675e-05; V110 = 3.5009599764e-05;\n",
    "    V210 = -4.3592678561e-05; V310 = 3.4532461828e-05; V410 = -1.1959409788e-05;\n",
    "    V510 = 1.3864594581e-06; V020 = 2.7762106484e-05; V120 = -3.7435842344e-05;\n",
    "    V220 = 3.5907822760e-05; V320 = -1.8698584187e-05; V420 = 3.8595339244e-06;\n",
    "    V030 = -1.6521159259e-05; V130 = 2.4141479483e-05; V230 = -1.4353633048e-05;\n",
    "    V330 = 2.2863324556e-06; V040 = 6.9111322702e-06; V140 = -8.7595873154e-06;\n",
    "    V240 = 4.3703680598e-06; V050 = -8.0539615540e-07; V150 = -3.3052758900e-07;\n",
    "    V060 = 2.0543094268e-07; V001 = -1.6784136540e-05; V101 = 2.4262468747e-05;\n",
    "    V201 = -3.4792460974e-05; V301 = 3.7470777305e-05; V401 = -1.7322218612e-05;\n",
    "    V501 = 3.0927427253e-06; V011 = 1.8505765429e-05; V111 = -9.5677088156e-06;\n",
    "    V211 = 1.1100834765e-05; V311 = -9.8447117844e-06; V411 = 2.5909225260e-06;\n",
    "    V021 = -1.1716606853e-05; V121 = -2.3678308361e-07; V221 = 2.9283346295e-06;\n",
    "    V321 = -4.8826139200e-07; V031 = 7.9279656173e-06; V131 = -3.4558773655e-06;\n",
    "    V231 = 3.1655306078e-07; V041 = -3.4102187482e-06; V141 = 1.2956717783e-06;\n",
    "    V051 = 5.0736766814e-07; V002 = 3.0623833435e-06; V102 = -5.8484432984e-07;\n",
    "    V202 = -4.8122251597e-06; V302 = 4.9263106998e-06; V402 = -1.7811974727e-06;\n",
    "    V012 = -1.1736386731e-06; V112 = -5.5699154557e-06; V212 = 5.4620748834e-06;\n",
    "    V312 = -1.3544185627e-06; V022 = 2.1305028740e-06; V122 = 3.9137387080e-07;\n",
    "    V222 = -6.5731104067e-07; V032 = -4.6132540037e-07; V132 = 7.7618888092e-09;\n",
    "    V042 = -6.3352916514e-08; V003 = -3.8088938393e-07; V103 = 3.6310188515e-07;\n",
    "    V203 = 1.6746303780e-08; V013 = -3.6527006553e-07; V113 = -2.7295696237e-07;\n",
    "    V023 = 2.8695905159e-07; V004 = 8.8302421514e-08; V104 = -1.1147125423e-07;\n",
    "    V014 = 3.1454099902e-07; V005 = 4.2369007180e-09;\n",
    "    !\n",
    "    ss = np.sqrt ( (SA+deltaS)/SAu );\n",
    "    tt = CT/CTu;\n",
    "    pp = P/Pu;\n",
    "    vp5 = V005\n",
    "    vp4 = V014 * tt + V104 * ss + V004\n",
    "    vp3 = ( V023 * tt + V113 * ss + V013 ) * tt  + ( V203 * ss + V103 ) * ss + V003\n",
    "    vp2 = ( ( ( V042 * tt + V132 * ss + V032 ) * tt  + ( V222 * ss + V122 ) * ss + V022 ) * tt  + ( ( V312 * ss + V212 ) * ss + V112 ) * ss + V012 ) * tt  + ( ( ( V402 * ss + V302 ) * ss + V202 ) * ss + V102 ) * ss + V002\n",
    "    vp1 = ( ( ( ( V051 * tt + V141 * ss + V041 ) * tt  + ( V231 * ss + V131 ) * ss + V031 ) * tt  + ( ( V321 * ss + V221 ) * ss + V121 ) * ss + V021 ) * tt  + ( ( ( V411 * ss + V311 ) * ss + V211 ) * ss + V111 ) * ss + V011 ) * tt  + ( ( ( ( V501 * ss + V401 ) * ss + V301 ) * ss + V201 ) * ss + V101 ) * ss + V001\n",
    "    vp0 = ( ( ( ( ( V060 * tt + V150 * ss + V050 ) * tt  + ( V240 * ss + V140 ) * ss + V040 ) * tt  + ( ( V330 * ss + V230 ) * ss + V130 ) * ss + V030 ) * tt  + ( ( ( V420 * ss + V320 ) * ss + V220 ) * ss + V120 ) * ss + V020 ) * tt  + ( ( ( ( V510 * ss + V410 ) * ss + V310 ) * ss + V210 ) * ss + V110 ) * ss + V010 ) * tt + ((((( V600 * ss + V500 ) * ss + V400 ) * ss + V300 ) * ss + V200 ) * ss + V100 ) * ss + V000\n",
    "    \n",
    "    delta = ( ( ( ( vp5 * pp + vp4 ) * pp + vp3 ) * pp + vp2 ) * pp + vp1 ) * pp + vp0\n",
    "    \n",
    "    return delta"
   ]
  },
  {
   "cell_type": "code",
   "execution_count": 13,
   "id": "9c4c2f8c",
   "metadata": {},
   "outputs": [
    {
     "data": {
      "text/plain": [
       "0.0009776149796761118"
      ]
     },
     "execution_count": 13,
     "metadata": {},
     "output_type": "execute_result"
    }
   ],
   "source": [
    "gsw_specvol_poly75t(30, 10, 1000)"
   ]
  },
  {
   "cell_type": "code",
   "execution_count": 17,
   "id": "f81b592e",
   "metadata": {},
   "outputs": [],
   "source": [
    "v = roquet2015_refprofile(1000)+gsw_specvol_poly75t(30, 10, 1000)"
   ]
  },
  {
   "cell_type": "code",
   "execution_count": 18,
   "id": "ccc263e5",
   "metadata": {},
   "outputs": [
    {
     "data": {
      "text/plain": [
       "0.0009732819627722667"
      ]
     },
     "execution_count": 18,
     "metadata": {},
     "output_type": "execute_result"
    }
   ],
   "source": [
    "v"
   ]
  },
  {
   "cell_type": "code",
   "execution_count": null,
   "id": "b9ecc990",
   "metadata": {},
   "outputs": [],
   "source": [
    "Check values for SA = 30 g/kg, CT = 10 ◦C, p = 1000 dbar :\n",
    "delta = 9.776149797e−04 m3 kg−1, v = 9.732819628e−04 m 3 kg−1\n",
    "α = 1.748439401e−04 K−1, β = 7.451213159e−04 (g/kg)−1"
   ]
  },
  {
   "cell_type": "code",
   "execution_count": 14,
   "id": "46a17c69",
   "metadata": {},
   "outputs": [],
   "source": [
    "def roquet2015_refprofile(p):\n",
    "    Pu = 1e4; pp = p / Pu\n",
    "    V00 = -4.4015007269e-05; V01 = 6.9232335784e-06; V02 = -7.5004675975e-07;\n",
    "    V03 = 1.7009109288e-08; V04 = -1.6884162004e-08; V05 = 1.9613503930e-09;\n",
    "    v0 = (((((V05 * pp+V04) * pp+V03 ) * pp+V02 ) * pp+V01) * pp+V00) * pp\n",
    "    return v0"
   ]
  },
  {
   "cell_type": "code",
   "execution_count": 15,
   "id": "67d3757f",
   "metadata": {},
   "outputs": [
    {
     "data": {
      "text/plain": [
       "-4.3330169038450906e-06"
      ]
     },
     "execution_count": 15,
     "metadata": {},
     "output_type": "execute_result"
    }
   ],
   "source": [
    "roquet2015_refprofile(1000)"
   ]
  },
  {
   "cell_type": "code",
   "execution_count": null,
   "id": "2fb1b5d7",
   "metadata": {},
   "outputs": [],
   "source": [
    "Check value for p = 1000 dbar : v0 = −4.333016903e−06 m 3 kg−1"
   ]
  },
  {
   "cell_type": "code",
   "execution_count": null,
   "id": "3604ee0e",
   "metadata": {},
   "outputs": [],
   "source": []
  },
  {
   "cell_type": "code",
   "execution_count": null,
   "id": "f48b4340",
   "metadata": {},
   "outputs": [],
   "source": []
  },
  {
   "cell_type": "code",
   "execution_count": null,
   "id": "d90b83aa",
   "metadata": {},
   "outputs": [],
   "source": [
    "def polyTeos55t(SA, CT, p):\n",
    "    SAu = 40. * 35.16504/35; CTu = 40.; Pu = 1e4\n",
    "    deltaS = 24.\n",
    "    V000 = 1.0772899069e-03; V100 = -3.1263658781e-04; V200 = 6.7615860683e-04;\n",
    "    V300 = -8.6127884515e-04; V400 = 5.9010812596e-04; V500 = -2.1503943538e-04;\n",
    "    V600 = 3.2678954455e-05; V010 = -1.4949652640e-05; V110 = 3.1866349188e-05;\n",
    "    V210 = -3.8070687610e-05; V310 = 2.9818473563e-05; V410 = -1.0011321965e-05;\n",
    "    V510 = 1.0751931163e-06; V020 = 2.7546851539e-05; V120 = -3.6597334199e-05;\n",
    "    V220 = 3.4489154625e-05; V320 = -1.7663254122e-05; V420 = 3.5965131935e-06;\n",
    "    V030 = -1.6506828994e-05; V130 = 2.4412359055e-05; V230 = -1.4606740723e-05;\n",
    "    V330 = 2.3293406656e-06; V040 = 6.7896174634e-06; V140 = -8.7951832993e-06;\n",
    "    V240 = 4.4249040774e-06; V050 = -7.2535743349e-07; V150 = -3.4680559205e-07;\n",
    "    V060 = 1.9041365570e-07; V001 = -1.6889436589e-05; V101 = 2.1106556158e-05;\n",
    "    V201 = -2.1322804368e-05; V301 = 1.7347655458e-05; V401 = -4.3209400767e-06;\n",
    "    V011 = 1.5355844621e-05; V111 = 2.0914122241e-06; V211 = -5.7751479725e-06;\n",
    "    V311 = 1.0767234341e-06; V021 = -9.6659393016e-06; V121 = -7.0686982208e-07;\n",
    "    V221 = 1.4488066593e-06; V031 = 3.1134283336e-06; V131 = 7.9562529879e-08;\n",
    "    V041 = -5.6590253863e-07; V002 = 1.0500241168e-06; V102 = 1.9600661704e-06;\n",
    "    V202 = -2.1666693382e-06; V012 = -3.8541359685e-06; V112 = 1.0157632247e-06;\n",
    "    V022 = 1.7178343158e-06; V003 = -4.1503454190e-07; V103 = 3.5627020989e-07;\n",
    "    V013 = -1.1293871415e-07;\n",
    "    \n",
    "    ss = np.sqrt ( (SA+deltaS)/SAu )\n",
    "    tt = CT*1.0/CTu\n",
    "    pp = p*1.0/Pu\n",
    "    vp3 = V013 * tt+V103 * ss+V003\n",
    "    vp2 = (V022 * tt+V112 * ss+V012) * tt+(V202 * ss+V102) * ss+V002\n",
    "    vp1 = (((V041 * tt+V131 * ss+V031) * tt + (V221 * ss+V121) * ss+V021) * tt + ((V311 * ss+V211) * ss+V111) * ss+V011) * tt + (((V401 * ss+V301) * ss+V201) * ss+V101) * ss+V001\n",
    "    vp0 = (((((V060 * tt+V150 * ss+V050) * tt + (V240 * ss+V140) * ss+V040) * tt + ((V330 * ss+V230) * ss+V130) * ss+V030) * tt + (((V420 * ss+V320) * ss+V220) * ss+V120) * ss+V020) * tt + ((((V510 * ss+V410) * ss+V310) * ss+V210) * ss+V110) * ss+V010) * tt +(((((V600 * ss+V500) * ss+V400) * ss+V300) * ss+V200) * ss+V100) * ss+V000\n",
    "    \n",
    "    delta = ( ( vp3 * pp + vp2 ) * pp + vp1 ) * pp + vp0   \n",
    "    return delta"
   ]
  },
  {
   "cell_type": "code",
   "execution_count": null,
   "id": "3363d389",
   "metadata": {},
   "outputs": [],
   "source": [
    "polyTeos55t(30, 10, 1000)"
   ]
  },
  {
   "cell_type": "code",
   "execution_count": null,
   "id": "b1c938d9",
   "metadata": {},
   "outputs": [],
   "source": [
    "V000"
   ]
  },
  {
   "cell_type": "code",
   "execution_count": null,
   "id": "af0e247f",
   "metadata": {},
   "outputs": [],
   "source": [
    "class LinearEOS {\n",
    "  Real operator()(...);\n",
    "};\n",
    "class TEOS10 {\n",
    "  Real operator()(...); // same arguments as LinearEOS\n",
    "};"
   ]
  }
 ],
 "metadata": {
  "kernelspec": {
   "display_name": "Python [conda env:e3sm_unified_1.10.0_login] *",
   "language": "python",
   "name": "conda-env-e3sm_unified_1.10.0_login-py"
  },
  "language_info": {
   "codemirror_mode": {
    "name": "ipython",
    "version": 3
   },
   "file_extension": ".py",
   "mimetype": "text/x-python",
   "name": "python",
   "nbconvert_exporter": "python",
   "pygments_lexer": "ipython3",
   "version": "3.10.14"
  }
 },
 "nbformat": 4,
 "nbformat_minor": 5
}
