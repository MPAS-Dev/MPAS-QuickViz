{
 "cells": [
  {
   "cell_type": "code",
   "execution_count": 2,
   "metadata": {},
   "outputs": [
    {
     "name": "stdout",
     "output_type": "stream",
     "text": [
      "Populating the interactive namespace from numpy and matplotlib\n"
     ]
    }
   ],
   "source": [
    "#script to compute cross sections of density, and tends of T&S -- start with Density\n",
    "import numpy as np\n",
    "import xarray as xr\n",
    "import glob\n",
    "import gzip\n",
    "import os\n",
    "\n",
    "%pylab inline\n",
    "pylab.rcParams['figure.figsize'] = (16,12) # Large figures\n",
    "pylab.rcParams['image.cmap'] = 'seismic'\n",
    "dpi=200;\n",
    "\n",
    "### axis_font = {'fontname':'Arial', 'size':'18'}    \n",
    "title_font = {'fontname':'Arial', 'size':'32', 'color':'black', 'weight':'normal'}\n",
    "matplotlib.rc('xtick', labelsize=28)\n",
    "matplotlib.rc('ytick', labelsize=28)"
   ]
  },
  {
   "cell_type": "code",
   "execution_count": 3,
   "metadata": {},
   "outputs": [],
   "source": [
    "#constants\n",
    "cp = 3996.0\n",
    "Lf = 3.337E5\n",
    "rho_sw = 1026."
   ]
  },
  {
   "cell_type": "code",
   "execution_count": 4,
   "metadata": {},
   "outputs": [],
   "source": [
    "#load files\n",
    "isArchived = True\n",
    "path = '/lcrc/group/e3sm/ac.afroberts/E3SM_simulations/20210516.v2rc1a.Frazil2.ne30pg2_EC30to60E2r2.chrysalis'\n",
    "#path = '/lcrc/group/e3sm/ac.golaz/E3SM_simulations/20210324.v2beta3.piControlGM900_GWDfix.ne30pg2_EC30to60E2r2.chrysalis'\n",
    "#path = '/lcrc/group/e3sm/ac.vanroekel/scratch/anvil/20210414_highFrequencyOutput_EC30to60E2r2'\n",
    "relPath = 'run'\n",
    "relPathLogs = 'run'\n",
    "if isArchived:\n",
    "    relPath = 'archive/ocn/hist'\n",
    "    relPathLogs = 'archive/logs'\n",
    "fnames = '*mpaso.hist.am.timeSeriesStatsMonthly.*'\n",
    "files = sorted(glob.glob(f'{path}/{relPath}/{fnames}'))"
   ]
  },
  {
   "cell_type": "code",
   "execution_count": 5,
   "metadata": {},
   "outputs": [],
   "source": [
    "fl = 'cpl.log.*'\n",
    "cpllist = sorted(glob.glob(f'{path}/{relPathLogs}/{fl}'))"
   ]
  },
  {
   "cell_type": "code",
   "execution_count": 6,
   "metadata": {},
   "outputs": [],
   "source": [
    "#parse heat budget\n",
    "hterms = ['hfreeze','hmelt','hnetsw','hlwdn','hlwup','hlatvap','hlatfus','hiroff','hsen','hh2otemp','hsum']\n",
    "htermVals = []\n",
    "dateStamps = []\n",
    "for ij in range(len(cpllist)):\n",
    "    if cpllist[ij][-2:] == 'gz':\n",
    "        with gzip.open(cpllist[ij],'rt') as f:\n",
    "            content = f.read()\n",
    "            contentSplit = content.split('\\n')\n",
    "    else:\n",
    "        f = open(cpllist[ij])\n",
    "        contentSplit = f.readlines()\n",
    "        \n",
    "    i=0\n",
    "    while i < len(contentSplit):\n",
    "        while 'NET HEAT BUDGET' not in contentSplit[i] or 'monthly' not in contentSplit[i]  :\n",
    "            i+=1\n",
    "            if i == len(contentSplit):\n",
    "                break\n",
    "        if i < len(contentSplit):\n",
    "            date = contentSplit[i].split()[-2]\n",
    "            yr = int(date[:len(date)-4])\n",
    "            mn = int(date[len(date)-4:len(date)-2])-1\n",
    "            dateStamp = '{0:04d}-{1:02d}'.format(yr,mn)\n",
    "            dateStamps.append(dateStamp)\n",
    "            fInd = [j for j in files if dateStamp in j]\n",
    "            i += 2\n",
    "\n",
    "            addArray = np.zeros(len(hterms))\n",
    "\n",
    "            for ii in range(len(hterms)):\n",
    "                addArray[ii] = float(contentSplit[i+ii].split()[4])\n",
    "            htermVals.append(addArray)\n",
    "            i+=1"
   ]
  },
  {
   "cell_type": "code",
   "execution_count": 7,
   "metadata": {},
   "outputs": [],
   "source": [
    "#parse water budget\n",
    "ij=1\n",
    "wterms = ['wfreeze','wmelt','wrain','wsnow','wevap','wrunoff','wfrzrof','wsum']\n",
    "wtermVals = []\n",
    "\n",
    "for ij in range(len(cpllist)):\n",
    "    if cpllist[ij][-2:] == 'gz':\n",
    "        with gzip.open(cpllist[ij],'rt') as f:\n",
    "            content = f.read()\n",
    "            contentSplit = content.split('\\n')\n",
    "    else:\n",
    "        f = open(cpllist[ij])\n",
    "        contentSplit = f.readlines()\n",
    "        \n",
    "    i=0\n",
    "    while i < len(contentSplit):\n",
    "        while 'NET WATER BUDGET' not in contentSplit[i] or 'monthly' not in contentSplit[i]:\n",
    "            i+=1\n",
    "            if i == len(contentSplit):\n",
    "                break\n",
    "        if i < len(contentSplit):\n",
    "       \n",
    "            i += 2\n",
    "\n",
    "            addArray = np.zeros(len(wterms))\n",
    "\n",
    "            for ii in range(len(wterms)):\n",
    "                addArray[ii] = float(contentSplit[i+ii].split()[4])\n",
    "            wtermVals.append(addArray)\n",
    "            i+=1\n"
   ]
  },
  {
   "cell_type": "code",
   "execution_count": 8,
   "metadata": {},
   "outputs": [],
   "source": [
    "me = xr.open_dataset('/lcrc/group/e3sm/public_html/inputdata/ocn/mpas-o/EC30to60E2r2/ocean.EC30to60E2r2.210210.nc')\n",
    "area = me.areaCell.values\n",
    "glbA = np.sum(area)\n",
    "landArea = 0.29348259  #Taken from the coupler log under AREA BUDGET\n",
    "ocnFrac = 1.0 - landArea"
   ]
  },
  {
   "cell_type": "code",
   "execution_count": 9,
   "metadata": {},
   "outputs": [],
   "source": [
    "# choose a time slices to analyze (for now goes from begining to nYears)\n",
    "nYears = 20"
   ]
  },
  {
   "cell_type": "code",
   "execution_count": 10,
   "metadata": {},
   "outputs": [],
   "source": [
    "#now load in mpas variables\n",
    "# hfreeze - values of seaIceHeatFlux where greater than zero AND frazil (frazilTemperatureTendency*rho_sw*cp)\n",
    "# hmelt - values of seaIceHeatFlux where less than zero\n",
    "# hnetsw - total incoming shortwave -- shortWaveHeatFLux\n",
    "# hlwdn and hlwup - longwaveHeatFluxDown (Up)\n",
    "# hlatvap - evaporationFlux*Lv or latentHeatFlux\n",
    "# hlatfus - snowFlux*Lf\n",
    "# hiroff - iceRunoffFlux*Lf\n",
    "# hSen - sensibleHeatFlux\n",
    "# Things not tracked in coupler (yet)\n",
    "# riverRunoffFlux * max(sst,0)\n",
    "# seaIceFreshwaterFlux*freezingTemperature\n",
    "# rainFlux*SST + evaporationFlux*SST\n",
    "# the last three are calculated as the sum of the first set (no SW) - netFlux from MPAS\n",
    "htermValsMPAS = np.zeros((len(files),11))\n",
    "\n",
    "#Water budget\n",
    "#wfreeze - negative seaice freshwater flux + frazil\n",
    "#wmelt - positive seaice freshwater flux\n",
    "#wrain = rainFlux\n",
    "#wsnow = snowFlux\n",
    "#wevap - evaporationFlux\n",
    "#runoff - riverRunoffFlux\n",
    "#frzrof - iceRunoffFlux\n",
    "wtermValsMPAS = np.zeros((len(files),8))\n",
    "\n",
    "for ii in range(min(len(files),nYears*12)):\n",
    "    ds = xr.open_dataset(files[ii])\n",
    "    \n",
    "    #load variables - heat budget terms\n",
    "    siHF = ds.timeMonthly_avg_seaIceHeatFlux[0,:].values\n",
    "    fraz = ds.timeMonthly_avg_frazilTemperatureTendency[0,:,:].values\n",
    "    frazT = np.sum(fraz,axis=1)\n",
    "    fraz = ds.timeMonthly_avg_frazilLayerThicknessTendency[0,:,:].values\n",
    "    frazThick = np.sum(fraz,axis=1)\n",
    "    sw = ds.timeMonthly_avg_shortWaveHeatFlux[0,:].values\n",
    "    lwup = ds.timeMonthly_avg_longWaveHeatFluxUp[0,:].values\n",
    "    lwdn = ds.timeMonthly_avg_longWaveHeatFluxDown[0,:].values\n",
    "    lat = ds.timeMonthly_avg_latentHeatFlux[0,:].values\n",
    "    latfus = -ds.timeMonthly_avg_snowFlux[0,:].values*Lf\n",
    "    iroff = -ds.timeMonthly_avg_iceRunoffFlux[0,:].values*Lf\n",
    "    sen = ds.timeMonthly_avg_sensibleHeatFlux[0,:].values\n",
    "    siHflux = ds.timeMonthly_avg_seaIceHeatFlux[0,:].values\n",
    "    \n",
    "    #load water budget terms\n",
    "    siFW = ds.timeMonthly_avg_seaIceFreshWaterFlux[0,:].values\n",
    "    rain = ds.timeMonthly_avg_rainFlux[0,:].values\n",
    "    evap = ds.timeMonthly_avg_evaporationFlux[0,:].values\n",
    "    rof = ds.timeMonthly_avg_riverRunoffFlux[0,:].values\n",
    "    ice = ds.timeMonthly_avg_iceRunoffFlux[0,:].values\n",
    "    snow = ds.timeMonthly_avg_snowFlux[0,:].values\n",
    "\n",
    "    if 'timeMonthly_avg_totalFreshWaterTemperatureFlux' in ds.variables:\n",
    "        freshWaterHeatFlux = ds.timeMonthly_avg_totalFreshWaterTemperatureFlux[0,:].values*rho_sw*cp\n",
    "    else:\n",
    "    # if variable not available, approximate the p-e flux associated with heat, not exact as this is a monthly avg\n",
    "    #note this is missing icebergFlux which is zero for WC sims  Should be replaced with the totalFreshwaterTempFlux variable\n",
    "        netFlux = cp*rho_sw*ds.timeMonthly_avg_activeTracersSurfaceFlux_temperatureSurfaceFlux[0,:].values\n",
    "        runoff = cp*rho_sw*ds.timeMonthly_avg_activeTracersSurfaceFluxRunoff_temperatureSurfaceFluxRunoff[0,:].values\n",
    "    \n",
    "        freshWaterHeatFlux = netFlux - lat - sen - lwup - lwdn - siHflux - latfus - iroff\n",
    "        #add runoff contribution\n",
    "        freshWaterHeatFlux += runoff\n",
    "    \n",
    "    #heat budget calculations\n",
    "    iceInds = np.where(siHF > 0)[0]\n",
    "    frazInds = np.where(frazT)\n",
    "    htermValsMPAS[ii,0] = ocnFrac*(np.sum(siHF[iceInds]*area[iceInds])/glbA \\\n",
    "                                   + np.sum(area*frazT*rho_sw*cp)/glbA)\n",
    "    \n",
    "    iceInds = np.where(siHF < 0)[0]\n",
    "    htermValsMPAS[ii,1] = ocnFrac*np.sum(siHF[iceInds]*area[iceInds])/glbA\n",
    "\n",
    "    htermValsMPAS[ii,2] = ocnFrac*np.sum(sw*area)/glbA\n",
    "    htermValsMPAS[ii,3] = ocnFrac*np.sum(lwdn*area)/glbA\n",
    "    htermValsMPAS[ii,4] = ocnFrac*np.sum(lwup*area)/glbA\n",
    "    htermValsMPAS[ii,5] = ocnFrac*np.sum(lat*area)/glbA\n",
    "    htermValsMPAS[ii,6] = ocnFrac*np.sum(latfus*area)/glbA\n",
    "    htermValsMPAS[ii,7] = ocnFrac*np.sum(iroff*area)/glbA\n",
    "    htermValsMPAS[ii,8] = ocnFrac*np.sum(sen*area)/glbA\n",
    "    htermValsMPAS[ii,9] = ocnFrac*np.sum((freshWaterHeatFlux)*area)/glbA \n",
    "    htermValsMPAS[ii,10] = np.sum(htermValsMPAS[ii,:10])\n",
    "    \n",
    "    #water budget calculations\n",
    "    wtermValsMPAS[ii,0] = ocnFrac*rho_sw*(np.sum(frazThick*area)/glbA)\n",
    "    wtermValsMPAS[ii,1] = ocnFrac*(np.sum(siFW*area)/glbA)\n",
    "\n",
    "    wtermValsMPAS[ii,2] = ocnFrac*np.sum(rain*area)/glbA\n",
    "    wtermValsMPAS[ii,3] = ocnFrac*np.sum(snow*area)/glbA\n",
    "    wtermValsMPAS[ii,4] = ocnFrac*np.sum(evap*area)/glbA\n",
    "    wtermValsMPAS[ii,5] = ocnFrac*np.sum(rof*area)/glbA\n",
    "    wtermValsMPAS[ii,6] = ocnFrac*np.sum(ice*area)/glbA\n",
    "    wtermValsMPAS[ii,7] = wtermValsMPAS[ii,:7].sum()\n",
    "    \n",
    "    ds.close()"
   ]
  },
  {
   "cell_type": "code",
   "execution_count": 11,
   "metadata": {},
   "outputs": [
    {
     "data": {
      "text/plain": [
       "[<matplotlib.lines.Line2D at 0x2b6f76bd2950>]"
      ]
     },
     "execution_count": 11,
     "metadata": {},
     "output_type": "execute_result"
    },
    {
     "data": {
      "image/png": "[encoded data removed]",
      "text/plain": [
       "<Figure size 1152x864 with 2 Axes>"
      ]
     },
     "metadata": {
      "needs_background": "light"
     },
     "output_type": "display_data"
    }
   ],
   "source": [
    "fig,ax = plt.subplots(2,1)\n",
    "ax[0].plot(wtermValsMPAS[1:36,-1])\n",
    "hcpl = np.asarray(wtermVals)*1e-6\n",
    "ax[0].plot(hcpl[1:36,-1])\n",
    "ax[1].plot(wtermValsMPAS[1:36,-1]-hcpl[1:36,-1])"
   ]
  },
  {
   "cell_type": "code",
   "execution_count": 50,
   "metadata": {},
   "outputs": [
    {
     "name": "stdout",
     "output_type": "stream",
     "text": [
      "Heat Budget (W/m^2) for -- 0001-03\n",
      " \n",
      "Field          Coupler    MPAS-Ocean\n",
      "--------  ------------  ------------\n",
      "hfreeze      0.163238      0.163293\n",
      "hmelt       -0.849968     -0.849969\n",
      "hnetsw     128.674       128.674\n",
      "hlwdn      241.785       241.785\n",
      "hlwup     -278.561      -278.561\n",
      "hlatvap    -76.9762      -76.9762\n",
      "hlatfus     -0.393207     -0.393207\n",
      "hiroff      -0.0936651    -0.0936652\n",
      "hsen       -10.9026      -10.9026\n",
      "hh2otemp    -0.591192     -0.591306\n",
      "hsum         2.2548        2.25474\n"
     ]
    }
   ],
   "source": [
    "#chose specific entry to put in table -- it is by month from start of run\n",
    "ii=2\n",
    "from tabulate import tabulate\n",
    "tab = []\n",
    "for i in range(len(hterms)):\n",
    "    tab.append([hterms[i],htermVals[ii][i],htermValsMPAS[ii,i]])\n",
    "\n",
    "print('Heat Budget (W/m^2) for -- '+dateStamps[ii])\n",
    "print(' ')\n",
    "print(tabulate(tab,headers=['Field','Coupler','MPAS-Ocean']))"
   ]
  },
  {
   "cell_type": "code",
   "execution_count": 51,
   "metadata": {},
   "outputs": [
    {
     "name": "stdout",
     "output_type": "stream",
     "text": [
      "Water Budget (1e6 kg m$^{-2}$s$^{-1}$) for -- 0001-11\n",
      " \n",
      "Field       Coupler    MPAS-Ocean\n",
      "-------  ----------  ------------\n",
      "wfreeze   -0.398042     -0.398314\n",
      "wmelt      2.78137       2.78137\n",
      "wrain     24.5214       24.5214\n",
      "wsnow      0.8581        0.8581\n",
      "wevap    -30.1741      -30.1741\n",
      "wrunoff    0.939957      0.939957\n",
      "wfrzrof    0.201255      0.201255\n",
      "wsum      -1.27008      -1.27036\n"
     ]
    }
   ],
   "source": [
    "#chose specific entry to put in table\n",
    "ii=10\n",
    "from tabulate import tabulate\n",
    "tab = []\n",
    "for i in range(len(wterms)):\n",
    "    tab.append([wterms[i],wtermVals[ii][i],1e6*wtermValsMPAS[ii,i]])\n",
    "    \n",
    "print(r'Water Budget (1e6 kg m$^{-2}$s$^{-1}$) for -- '+dateStamps[ii])\n",
    "print(' ')\n",
    "print(tabulate(tab,headers=['Field','Coupler','MPAS-Ocean']))"
   ]
  },
  {
   "cell_type": "code",
   "execution_count": 23,
   "metadata": {},
   "outputs": [],
   "source": [
    "ij=2\n",
    "if isArchived:\n",
    "    dirs=sorted(os.listdir(f'{path}/archive/rest'))\n",
    "    s2 = dirs[ij].rfind('-000')\n",
    "    searchString1 = dirs[ij][:s2]\n",
    "    searchString2 = dirs[ij+1][:s2]\n",
    "    fs = sorted(os.listdir(f'{path}/archive/rest/{dirs[ij]}'))\n",
    "    res1 = [j for j in fs if 'mpaso.rst' in j][0]\n",
    "    resFile1 = f'{path}/archive/rest/{dirs[ij]}/{res1}'\n",
    "    fs = sorted(os.listdir(f'{path}/archive/rest/{dirs[ij+1]}'))\n",
    "    res2 = [j for j in fs if 'mpaso.rst' in j][0]\n",
    "    resFile2 = f'{path}/archive/rest/{dirs[ij+1]}/{res2}'\n",
    "    \n",
    "else:\n",
    "    resNames = '*mpaso.rst.0*'\n",
    "    resFiles = sorted(glob.glob(f'{path}/{relPath}/{resNames}'))\n",
    "    s=resFiles[0].rfind('rst.')\n",
    "    s2 = resFiles[0].rfind('_000')\n",
    "    searchString1 = resFiles[ij][s+4:s2]\n",
    "    searchString2 = resFiles[ij+1][s+4:s2]\n",
    "    resFile1 = resFiles[ij]\n",
    "    resFile2 = resFiles[ij+1]"
   ]
  },
  {
   "cell_type": "code",
   "execution_count": 24,
   "metadata": {},
   "outputs": [],
   "source": [
    "#for storage go between restarts and sum the terms in the budget\n",
    "#find a list of restarts\n",
    "#grab 2, parse dates and find monthly averages in between and sum\n",
    "\n",
    "#choose spot to analyze (must be in the restart files, need at least two for this to work, this example\n",
    "# shows how to analyze the change between the 3 and 4 restart files)\n",
    "f1 = [j for j in range(len(files)) if searchString1 in files[j]]\n",
    "f2 = [j for j in range(len(files)) if searchString2 in files[j]]\n",
    "nyears = (f2[0]-f1[0])/12\n",
    "ds1 = xr.open_dataset(resFile1)\n",
    "ds2 = xr.open_dataset(resFile2)\n",
    "\n",
    "lt1 = ds1.layerThickness[0,:,:].values\n",
    "t1 = ds1.temperature[0,:,:].values\n",
    "\n",
    "lt2 = ds2.layerThickness[0,:,:].values\n",
    "t2 = ds2.temperature[0,:,:].values\n",
    "\n",
    "dHeat = cp*rho_sw*(lt2*t2 - lt1*t1)/(nyears*365*86400.)\n",
    "\n",
    "ssh1 = ds1.layerThickness[0,:,:].sum(axis=1).values - ds1.bottomDepth.values\n",
    "ssh2 = ds2.layerThickness[0,:,:].sum(axis=1).values - ds2.bottomDepth.values\n",
    "dSSH = (ssh2*area - ssh1*area) / (nyears*365*86400.)"
   ]
  },
  {
   "cell_type": "code",
   "execution_count": 25,
   "metadata": {},
   "outputs": [],
   "source": [
    "#for the tends try with the actual seconds in month, make an array and duplicate nyears time to get mC/s so \n",
    "#divide by rho_cp first and multiply by seconds in month then divide by 5 years to get back and multiply in \n",
    "#rho_cp\n",
    "secs = np.asarray([31,28,31,30,31,30,31,31,30,31,30,31])*86400\n",
    "totalSecs = np.tile(secs,int(nyears))\n",
    "#total heat flux is untracked + sum\n",
    "totalFlux = (htermValsMPAS[f1[0]:f2[0],-1])/ocnFrac\n",
    "sumHFlux = np.sum(totalSecs*totalFlux)/np.sum(totalSecs)\n",
    "\n",
    "totalFlux = (wtermValsMPAS[f1[0]:f2[0],-1])/ocnFrac/rho_sw\n",
    "sumWFlux = np.sum(totalSecs*totalFlux)/np.sum(totalSecs)"
   ]
  },
  {
   "cell_type": "code",
   "execution_count": 26,
   "metadata": {},
   "outputs": [
    {
     "name": "stdout",
     "output_type": "stream",
     "text": [
      "MPAS SSH change over 5.0 years = -3.2030112557678543e-11, Calculated Tendency = -3.203011233614065e-11\n"
     ]
    }
   ],
   "source": [
    "print('MPAS SSH change over {} years = {}, Calculated Tendency = {}'.format(nyears,dSSH.sum()/glbA,sumWFlux))"
   ]
  },
  {
   "cell_type": "code",
   "execution_count": 27,
   "metadata": {},
   "outputs": [
    {
     "data": {
      "text/plain": [
       "-2.215378962605615e-19"
      ]
     },
     "execution_count": 27,
     "metadata": {},
     "output_type": "execute_result"
    }
   ],
   "source": [
    "dSSH.sum()/glbA-sumWFlux"
   ]
  },
  {
   "cell_type": "code",
   "execution_count": 17,
   "metadata": {},
   "outputs": [
    {
     "name": "stdout",
     "output_type": "stream",
     "text": [
      "MPAS heat change over 5.0 years = 0.3722087240760307, Calculated Tendency = 0.3719850923940803\n"
     ]
    }
   ],
   "source": [
    "print('MPAS heat change over {} years = {}, Calculated Tendency = {}'\\\n",
    "      .format(nyears,np.sum(np.sum(dHeat,axis=1)*area)/np.sum(area),sumHFlux))"
   ]
  },
  {
   "cell_type": "code",
   "execution_count": null,
   "metadata": {},
   "outputs": [],
   "source": []
  }
 ],
 "metadata": {
  "kernelspec": {
   "display_name": "Python [conda env:e3sm_unified_1.3.1.2]",
   "language": "python",
   "name": "conda-env-e3sm_unified_1.3.1.2-py"
  },
  "language_info": {
   "codemirror_mode": {
    "name": "ipython",
    "version": 3
   },
   "file_extension": ".py",
   "mimetype": "text/x-python",
   "name": "python",
   "nbconvert_exporter": "python",
   "pygments_lexer": "ipython3",
   "version": "3.7.8"
  }
 },
 "nbformat": 4,
 "nbformat_minor": 4
}
